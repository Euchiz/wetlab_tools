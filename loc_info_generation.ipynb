{
 "cells": [
  {
   "cell_type": "markdown",
   "metadata": {},
   "source": [
    "This script aims to generate dictionary of spatial infomation from SPL (structured panel language) file"
   ]
  },
  {
   "cell_type": "code",
   "execution_count": 1,
   "metadata": {},
   "outputs": [
    {
     "name": "stdout",
     "output_type": "stream",
     "text": [
      "please input your SPL file name: panel_1.txt\n",
      "Successfully converted.\n"
     ]
    }
   ],
   "source": [
    "global result,col\n",
    "\n",
    "def writef(fname,tail):\n",
    "    f = open(fname[:-4]+\".%d.dict.txt\"%tail,'w')\n",
    "    print('\\t'.join([\"position\",\"primer\",\"sample\"]),end='\\n',file=f)\n",
    "    for keys,values in result.items():\n",
    "        print(keys,end='\\t',file=f)\n",
    "        print('\\t'.join(values),end='\\n',file=f)\n",
    "    f.close()\n",
    "\n",
    "def spl_core(word,nlcol,nrcol):\n",
    "    row = word[0]\n",
    "    col = []\n",
    "    n1,n2 = int(word[1]),int(word[2])\n",
    "    if n1==0 or n1==1:\n",
    "        if n2==0 or n2==1:\n",
    "            col += list(range(1,nlcol+1,2))\n",
    "        if n2==0 or n2==2:\n",
    "            col += list(range(2,nlcol+1,2))\n",
    "    if n1==0 or n1==2:\n",
    "        if n2==0 or n2==1:\n",
    "            col += list(range(13,nrcol+13,2))\n",
    "        if n2==0 or n2==2:\n",
    "            col += list(range(14,nrcol+13,2))\n",
    "    return [[row,num] for num in col]\n",
    "    \n",
    "def spl_decipher(line,col):\n",
    "    nlcol,nrcol = 2*len(col[0]),2*len(col[1])\n",
    "    sentence = line.split()\n",
    "    primer = sentence[0]\n",
    "    if line[0]!='(':\n",
    "        for word in sentence[1:]:\n",
    "            for [row,num] in spl_core(word,nlcol,nrcol):\n",
    "                result[\"%s%d\"%(row,num)] = [primer,\"%s\"%col[(num-1)//12][(num-13)//2]]\n",
    "    else:\n",
    "        [start,end] = primer.strip(\"()\").split('-')\n",
    "        for word in sentence[1:]:\n",
    "            for [row,num] in spl_core(word,nlcol,nrcol):\n",
    "                for it in range(int(start[1:]),int(end[1:])+1):\n",
    "                    tmp = chr(ord(row)+it-int(start[1:]))\n",
    "                    result[\"%s%d\"%(tmp,num)] = [\"p%d\"%it,\"%s\"%col[(num-1)//12][(num-13)//2]]\n",
    "\n",
    "if __name__==\"__main__\":\n",
    "    fname = input(\"please input your SPL file name: \")\n",
    "    file = open(fname)\n",
    "    spl = file.readlines()\n",
    "    file.close()\n",
    "    npanel = int(spl[0][6])\n",
    "    ii = 0\n",
    "    for np in range(npanel):\n",
    "        result = {}\n",
    "        col = [spl[ii+2].strip().split(),spl[ii+3].strip().split()]\n",
    "        n_norm = int(spl[ii+4].strip().split()[1])\n",
    "        for jj in range(n_norm):\n",
    "            spl_decipher(spl[ii+5+jj].strip(),col)\n",
    "        n_extra = int(spl[ii+5+n_norm].strip().split()[1])\n",
    "        for jj in range(n_extra):\n",
    "            tmp = spl[ii+6+n_norm+jj].strip().split()\n",
    "            result[tmp[0]]=[tmp[1],tmp[2]]\n",
    "        ii = ii+5+n_norm+n_extra\n",
    "        writef(fname,np+1)\n",
    "    print(\"Successfully converted.\")"
   ]
  },
  {
   "cell_type": "code",
   "execution_count": null,
   "metadata": {},
   "outputs": [],
   "source": []
  }
 ],
 "metadata": {
  "kernelspec": {
   "display_name": "Python 3",
   "language": "python",
   "name": "python3"
  },
  "language_info": {
   "codemirror_mode": {
    "name": "ipython",
    "version": 3
   },
   "file_extension": ".py",
   "mimetype": "text/x-python",
   "name": "python",
   "nbconvert_exporter": "python",
   "pygments_lexer": "ipython3",
   "version": "3.7.0"
  }
 },
 "nbformat": 4,
 "nbformat_minor": 4
}
